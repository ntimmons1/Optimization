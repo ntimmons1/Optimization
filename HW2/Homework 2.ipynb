{
 "cells": [
  {
   "cell_type": "code",
   "execution_count": 3,
   "metadata": {},
   "outputs": [
    {
     "data": {
      "text/plain": [
       "8-element Array{Int64,1}:\n",
       " 1\n",
       " 1\n",
       " 1\n",
       " 1\n",
       " 1\n",
       " 1\n",
       " 1\n",
       " 1"
      ]
     },
     "execution_count": 3,
     "metadata": {},
     "output_type": "execute_result"
    }
   ],
   "source": [
    "#Problem 1a: Cube\n",
    "A = [1 0 0; -1 0 0; 0 1 0; 0 -1 0; 0 0 1; 0 0 -1]\n",
    "b = [1;1;1;1;1;1]\n",
    "\n",
    "#Problem 1b: Octahedron\n",
    "A = [1 1 1; 1 -1 1;  -1 1 1; -1 -1 1; \n",
    "    1 1 -1; 1 -1 -1; -1 1 -1; -1 -1 -1;]\n",
    "b = [1,1,1,1,1,1,1,1]\n"
   ]
  },
  {
   "cell_type": "code",
   "execution_count": 4,
   "metadata": {},
   "outputs": [
    {
     "ename": "LoadError",
     "evalue": "\u001b[91mMethodError: no method matching *(::JuMP.Variable, ::SubString{String})\u001b[0m\nClosest candidates are:\n  *(::Any, ::Any, \u001b[91m::Any\u001b[39m, \u001b[91m::Any...\u001b[39m) at operators.jl:424\n  *(::JuMP.Variable, \u001b[91m::JuMP.Variable\u001b[39m) at C:\\\\\\\\\\\\\\\\\\\\\\\\\\\\\\\\\\\\\\\\\\\\\\\\\\\\\\\\\\\\\\\\\\\\\\\\\\\\\\\\\\\\\\\\\\\\\\\\\\\\\\\\\\\\\\\\Users\\Nick\\AppData\\Local\\JuliaPro-0.6.4.1\\pkgs-0.6.4.1\\v0.6\\JuMP\\src\\operators.jl:56\n  *(::JuMP.Variable, \u001b[91m::JuMP.GenericAffExpr{Float64,JuMP.Variable}\u001b[39m) at C:\\\\\\\\\\\\\\\\\\\\\\\\\\\\\\\\\\\\\\\\\\\\\\\\\\\\\\\\\\\\\\\\\\\\\\\\\\\\\\\\\\\\\\\\\\\\\\\\\\\\\\\\\\\\\\\\Users\\Nick\\AppData\\Local\\JuliaPro-0.6.4.1\\pkgs-0.6.4.1\\v0.6\\JuMP\\src\\operators.jl:66\n  ...\u001b[39m",
     "output_type": "error",
     "traceback": [
      "\u001b[91mMethodError: no method matching *(::JuMP.Variable, ::SubString{String})\u001b[0m\nClosest candidates are:\n  *(::Any, ::Any, \u001b[91m::Any\u001b[39m, \u001b[91m::Any...\u001b[39m) at operators.jl:424\n  *(::JuMP.Variable, \u001b[91m::JuMP.Variable\u001b[39m) at C:\\\\\\\\\\\\\\\\\\\\\\\\\\\\\\\\\\\\\\\\\\\\\\\\\\\\\\\\\\\\\\\\\\\\\\\\\\\\\\\\\\\\\\\\\\\\\\\\\\\\\\\\\\\\\\\\Users\\Nick\\AppData\\Local\\JuliaPro-0.6.4.1\\pkgs-0.6.4.1\\v0.6\\JuMP\\src\\operators.jl:56\n  *(::JuMP.Variable, \u001b[91m::JuMP.GenericAffExpr{Float64,JuMP.Variable}\u001b[39m) at C:\\\\\\\\\\\\\\\\\\\\\\\\\\\\\\\\\\\\\\\\\\\\\\\\\\\\\\\\\\\\\\\\\\\\\\\\\\\\\\\\\\\\\\\\\\\\\\\\\\\\\\\\\\\\\\\\Users\\Nick\\AppData\\Local\\JuliaPro-0.6.4.1\\pkgs-0.6.4.1\\v0.6\\JuMP\\src\\operators.jl:66\n  ...\u001b[39m",
      "",
      "Stacktrace:",
      " [1] \u001b[1maddtoexpr_reorder\u001b[22m\u001b[22m\u001b[1m(\u001b[22m\u001b[22m::JuMP.GenericAffExpr{Float64,JuMP.Variable}, ::JuMP.Variable, ::SubString{String}\u001b[1m)\u001b[22m\u001b[22m at \u001b[1mC:\\\\\\\\\\\\\\\\\\\\\\\\\\\\\\\\\\\\\\\\\\\\\\\\\\\\\\\\\\\\\\\\\\\\\\\\\\\\\\\\\\\\\\\\\\\\\\\\\\\\\\\\\\\\\\\\Users\\Nick\\AppData\\Local\\JuliaPro-0.6.4.1\\pkgs-0.6.4.1\\v0.6\\JuMP\\src\\parseExpr_staged.jl:280\u001b[22m\u001b[22m",
      " [2] \u001b[1mmacro expansion\u001b[22m\u001b[22m at \u001b[1mC:\\\\\\\\\\\\\\\\\\\\\\\\\\\\\\\\\\\\\\\\\\\\\\\\\\\\\\\\\\\\\\\\\\\\\\\\\\\\\\\\\\\\\\\\\\\\\\\\\\\\\\\\\\\\\\\\Users\\Nick\\AppData\\Local\\JuliaPro-0.6.4.1\\pkgs-0.6.4.1\\v0.6\\JuMP\\src\\parseExpr_staged.jl:489\u001b[22m\u001b[22m [inlined]",
      " [3] \u001b[1mmacro expansion\u001b[22m\u001b[22m at \u001b[1mC:\\\\\\\\\\\\\\\\\\\\\\\\\\\\\\\\\\\\\\\\\\\\\\\\\\\\\\\\\\\\\\\\\\\\\\\\\\\\\\\\\\\\\\\\\\\\\\\\\\\\\\\\\\\\\\\\Users\\Nick\\AppData\\Local\\JuliaPro-0.6.4.1\\pkgs-0.6.4.1\\v0.6\\JuMP\\src\\macros.jl:422\u001b[22m\u001b[22m [inlined]",
      " [4] \u001b[1manonymous\u001b[22m\u001b[22m at \u001b[1m.\\<missing>:?\u001b[22m\u001b[22m"
     ]
    }
   ],
   "source": [
    "#Problem 4a\n",
    "using NamedArrays\n",
    "\n",
    "# import Stigler's data set\n",
    "raw = readcsv(\"stigler.csv\")\n",
    "(m,n) = size(raw)\n",
    "\n",
    "n_nutrients = 2:n      # columns containing nutrients\n",
    "n_foods = 3:m          # rows containing food names\n",
    "\n",
    "nutrients = raw[1,n_nutrients][:]   # the list of nutrients (convert to 1-D array)\n",
    "foods = raw[n_foods,1][:]           # the list of foods (convert to 1-D array)\n",
    "\n",
    "# lower[i] is the minimum daily requirement of nutrient i.\n",
    "lower = Dict( zip(nutrients,raw[2,n_nutrients]) )\n",
    "\n",
    "# data[f,i] is the amount of nutrient i contained in food f.\n",
    "data = NamedArray( raw[n_foods,n_nutrients], (foods,nutrients), (\"foods\",\"nutrients\") );\n",
    "\n",
    "#println(data)/\n",
    "\n",
    "using JuMP;\n",
    "\n",
    "using Clp;\n",
    "\n",
    "m = Model(solver = ClpSolver())\n",
    "@variable(m, x[foods] >= 0)\n",
    "@constraint(m, a[j in nutrients],\n",
    "    sum(x[i]*data[i,j] for i in foods) >= lower[j])\n",
    "@objective(m, Min, sum(x[i] for i in foods))\n",
    "\n",
    "\n",
    "#print(m);\n",
    "\n",
    "status = solve(m);\n",
    "\n",
    "for i in foods\n",
    "    println(i)\n",
    "end\n",
    "\n",
    "println(\"The minimized cost diet costs: \", getobjectivevalue(m)*365);\n",
    "println(\"This optimal diet is 27 cents cheaper than Stigler's\")\n",
    "println(\"The diet is made up of:\")\n",
    "for i in foods\n",
    "    if getvalue(x[i]) > 0\n",
    "        println(getvalue(x[i]), \"units of \", i)\n",
    "    end\n",
    "end\n",
    "\n",
    "\n"
   ]
  },
  {
   "cell_type": "code",
   "execution_count": null,
   "metadata": {},
   "outputs": [],
   "source": []
  },
  {
   "cell_type": "code",
   "execution_count": null,
   "metadata": {},
   "outputs": [],
   "source": []
  },
  {
   "cell_type": "code",
   "execution_count": null,
   "metadata": {},
   "outputs": [],
   "source": []
  }
 ],
 "metadata": {
  "kernelspec": {
   "display_name": "Julia 0.6.4",
   "language": "julia",
   "name": "julia-0.6"
  },
  "language_info": {
   "file_extension": ".jl",
   "mimetype": "application/julia",
   "name": "julia",
   "version": "0.6.4"
  }
 },
 "nbformat": 4,
 "nbformat_minor": 1
}
