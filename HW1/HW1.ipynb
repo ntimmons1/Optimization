{
 "cells": [
  {
   "cell_type": "code",
   "execution_count": 3,
   "metadata": {},
   "outputs": [
    {
     "ename": "LoadError",
     "evalue": "\u001b[91mUndefVarError: @variable not defined\u001b[39m",
     "output_type": "error",
     "traceback": [
      "\u001b[91mUndefVarError: @variable not defined\u001b[39m",
      ""
     ]
    }
   ],
   "source": [
    "# Problem 1\n",
    "function testCLP();\n",
    "    m = Model(solver = ClpSolver());\n",
    "    @variable(m, 0 <= x[1:3] <= 3);\n",
    "    @objective(m, Max, 6x[1] - 2x[2] + 3x[3]);\n",
    "    @constraint(m, 2x[1] >= x[2] - x[3]);\n",
    "\n",
    "    print(m);\n",
    "\n",
    "    status = solve(m);\n",
    "\n",
    "    println(\"Objective value: \", getobjectivevalue(m));\n",
    "    println(\"x1 = \", getvalue(x[1]));\n",
    "    println(\"x2 = \", getvalue(x[2]));\n",
    "    println(\"x3 = \", getvalue(x[3]));\n",
    "end;\n",
    "\n",
    "#test the ECOS solver\n",
    "function testECOS();\n",
    "    m = Model(solver = ECOSSolver());\n",
    "    @variable(m, 0 <= x[1:3] <= 3);\n",
    "    @objective(m, Max, 6x[1] - 2x[2] + 3x[3]);\n",
    "    @constraint(m, 2x[1] >= x[2] - x[3]);\n",
    "\n",
    "    print(m);\n",
    "\n",
    "    status = solve(m);\n",
    "\n",
    "    println(\"Objective value: \", getobjectivevalue(m));\n",
    "    println(\"x1 = \", getvalue(x[1]));\n",
    "    println(\"x2 = \", getvalue(x[2]));\n",
    "    println(\"x3 = \", getvalue(x[3]));\n",
    "end\n",
    "\n",
    "#test the SCS solver\n",
    "function testSCS();\n",
    "    m = Model(solver = SCSSolver());\n",
    "    @variable(m, 0 <= x[1:3] <= 3);\n",
    "    @objective(m, Max, 6x[1] - 2x[2] + 3x[3]);\n",
    "    @constraint(m, 2x[1] >= x[2] - x[3]);\n",
    "\n",
    "    print(m);\n",
    "\n",
    "    status = solve(m);\n",
    "\n",
    "    println(\"Objective value: \", getobjectivevalue(m));\n",
    "    println(\"x1 = \", getvalue(x[1]));\n",
    "    println(\"x2 = \", getvalue(x[2]));\n",
    "    println(\"x3 = \", getvalue(x[3]));\n",
    "end\n",
    "\n",
    "using JuMP;\n",
    "\n",
    "using Clp;\n",
    "println(\"Clp test results:\")\n",
    "@time testCLP()\n",
    "println(\"==============================================\")\n",
    "println()\n",
    "\n",
    "using ECOS;\n",
    "println(\"ECOS test results:\")\n",
    "@time testECOS()\n",
    "println(\"==============================================\")\n",
    "println()\n",
    "\n",
    "using SCS;\n",
    "println(\"SCS test results:\")\n",
    "@time testSCS();\n",
    "println(\"==============================================\");\n",
    "println();\n",
    "\n",
    "#= As far as accuracy goes, the answers given by all the solvers\n",
    "#converge to the same integers, although Clp takes the liberty of \n",
    "assuming the correct rounded answer. =#\n",
    "\n",
    "#=After running the three solvers several times, it seems like\n",
    "the SCS solver is consistently the fastest by varying amounts\n",
    "relative to ECOS and Clp. The three solvers are fairly similar in\n",
    "speed, however. =#\n"
   ]
  },
  {
   "cell_type": "code",
   "execution_count": 27,
   "metadata": {},
   "outputs": [
    {
     "name": "stdout",
     "output_type": "stream",
     "text": [
      "Max 230 x[1] + 190 x[2]\n",
      "Subject to\n",
      " x[1] + x[2] <= 45\n",
      " 0 <= 3 x[1] + 2 x[2] <= 100\n",
      " 0 <= 2 x[1] + 4 x[2] <= 130\n",
      " 0 <= x[i] <= 45 for all i in {1,2}\n",
      "Objective value: 8537.5\n",
      "x1 = 17.499999999999993\n",
      "x2 = 23.750000000000004\n"
     ]
    }
   ],
   "source": [
    "#Problem 2a\n",
    "using JuMP;\n",
    "using Clp;\n",
    "m = Model(solver = ClpSolver());\n",
    "@variable(m, 0 <= x[1:2] <= 45);\n",
    "@objective(m, Max, 230x[1] + 190x[2]);\n",
    "@constraint(m, x[1] + x[2] <= 45);\n",
    "@constraint(m, 0 <= 3x[1] + 2x[2] <= 100);\n",
    "@constraint(m, 0 <= 2x[1] + 4x[2] <= 130);\n",
    "\n",
    "print(m);\n",
    "\n",
    "status = solve(m);\n",
    "\n",
    "println(\"Objective value: \", getobjectivevalue(m));\n",
    "println(\"x1 = \", getvalue(x[1]));\n",
    "println(\"x2 = \", getvalue(x[2]));\n",
    "\n",
    "##b\n"
   ]
  },
  {
   "cell_type": "code",
   "execution_count": 33,
   "metadata": {},
   "outputs": [
    {
     "ename": "LoadError",
     "evalue": "\u001b[91mUndefVarError: corn not defined\u001b[39m",
     "output_type": "error",
     "traceback": [
      "\u001b[91mUndefVarError: corn not defined\u001b[39m",
      ""
     ]
    }
   ],
   "source": [
    "#Problem2b\n",
    "crops = [:wheat, :corn]\n",
    "num_workers = 100\n",
    "num_fert = 130\n",
    "fert_needed = Dict(:wheat => 2, corn => 4)\n",
    "workers_needed = (:wheat => 3, :corn => 2)\n",
    "profit = Dict( :wheat => 230, :corn => 190)\n",
    "\n",
    "using JuMP, Clp\n",
    "m = Model(solver = ClpSolver())\n",
    "\n",
    "variable(m, crops[crops] >=0 )\n",
    "\n",
    "@expression(m, tot_profit, sum(crops[i] * profit[i] for i in crops))\n",
    "\n"
   ]
  },
  {
   "cell_type": "code",
   "execution_count": null,
   "metadata": {},
   "outputs": [],
   "source": []
  }
 ],
 "metadata": {
  "kernelspec": {
   "display_name": "Julia 0.6.4",
   "language": "julia",
   "name": "julia-0.6"
  },
  "language_info": {
   "file_extension": ".jl",
   "mimetype": "application/julia",
   "name": "julia",
   "version": "0.6.4"
  }
 },
 "nbformat": 4,
 "nbformat_minor": 2
}
